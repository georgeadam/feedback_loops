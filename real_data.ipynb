{
 "cells": [
  {
   "cell_type": "markdown",
   "metadata": {},
   "source": [
    "# MIMIC-III and Support2Cls Data"
   ]
  },
  {
   "cell_type": "raw",
   "metadata": {},
   "source": [
    "So far on toy Gaussian data, we have demonstrated the existence of the feedback loop for linear models. The impact of the paper depends highly on this being an issue for actual clinical datasets. \n",
    "\n",
    "The datasets we are using require predicting mortality in ICU settings. On toy data, we were implicitly modelling the curative vs. paliative care scenario. We still call death class 1 and live class 0. In the ICU, predicting death means more attention/resources/early intervention, so it actually saves patients which is the opposite of the curative vs. paliative care scenario where predicting death is a death sentence, no matter the underlying ground truth. Thus, we pretend that this is also a curative vs. paliative care scenario too, otherwise there is no feedback"
   ]
  },
  {
   "cell_type": "markdown",
   "metadata": {},
   "source": [
    "## MIMIC-III"
   ]
  },
  {
   "cell_type": "code",
   "execution_count": 267,
   "metadata": {},
   "outputs": [],
   "source": [
    "import copy\n",
    "import numpy as np\n",
    "import pandas as pd\n",
    "import seaborn as sns\n",
    "sns.set()\n",
    "sns.set_style(\"white\")\n",
    "import matplotlib.pyplot as plt\n",
    "import torch\n",
    "\n",
    "import sklearn.linear_model as linear_model\n",
    "\n",
    "from scipy.stats import pearsonr, spearmanr\n",
    "from sklearn.metrics import confusion_matrix, roc_auc_score\n",
    "from sklearn.datasets import make_classification\n",
    "from sklearn.model_selection import train_test_split\n",
    "\n",
    "import importlib\n",
    "import utils\n",
    "importlib.reload(utils)\n",
    "\n",
    "from utils import eval_model, perturb_labels_fp, update_model_feedback, make_gaussian_data\n",
    "\n",
    "%matplotlib inline"
   ]
  },
  {
   "cell_type": "code",
   "execution_count": 139,
   "metadata": {},
   "outputs": [],
   "source": [
    "def load_mimiciii_data():\n",
    "    df_adult = pd.read_csv('adult_icu.gz', compression='gzip')\n",
    "    \n",
    "    train_cols = [\n",
    "    'age', 'first_hosp_stay', 'first_icu_stay', 'eth_asian',\n",
    "    'eth_black', 'eth_hispanic', 'eth_other', 'eth_white',\n",
    "    'admType_ELECTIVE', 'admType_EMERGENCY', 'admType_NEWBORN',\n",
    "    'admType_URGENT', 'heartrate_min', 'heartrate_max', 'heartrate_mean',\n",
    "    'sysbp_min', 'sysbp_max', 'sysbp_mean', 'diasbp_min', 'diasbp_max',\n",
    "    'diasbp_mean', 'meanbp_min', 'meanbp_max', 'meanbp_mean',\n",
    "    'resprate_min', 'resprate_max', 'resprate_mean', 'tempc_min',\n",
    "    'tempc_max', 'tempc_mean', 'spo2_min', 'spo2_max', 'spo2_mean',\n",
    "    'glucose_min', 'glucose_max', 'glucose_mean', 'aniongap', 'albumin',\n",
    "    'bicarbonate', 'bilirubin', 'creatinine', 'chloride', 'glucose',\n",
    "    'hematocrit', 'hemoglobin', 'lactate', 'magnesium', 'phosphate',\n",
    "    'platelet', 'potassium', 'ptt', 'inr', 'pt', 'sodium', 'bun', 'wbc']\n",
    "    \n",
    "    label = 'mort_icu'\n",
    "    X_df = df_adult[train_cols]\n",
    "    y_df = df_adult[label]\n",
    "    \n",
    "    dataset = {\n",
    "    'problem': 'classification',\n",
    "    'X': X_df,\n",
    "    'y': y_df,\n",
    "    'd_name': 'mimiciii',\n",
    "    }\n",
    "    \n",
    "    return dataset"
   ]
  },
  {
   "cell_type": "code",
   "execution_count": 234,
   "metadata": {},
   "outputs": [],
   "source": [
    "def train_update_loop(model_fn, x, y, n_train, n_update, n_test, names, num_updates, desired_fpr, seeds):\n",
    "    seeds = np.arange(seeds)\n",
    "\n",
    "    rates = {name: [] for name in names}\n",
    "\n",
    "    for seed in seeds:\n",
    "        print(seed)\n",
    "        np.random.seed(seed)\n",
    "\n",
    "        x_train, x_test, y_train, y_test = train_test_split(x, y, test_size=n_update + n_test, stratify=y)\n",
    "        x_update, x_test, y_update, y_test = train_test_split(x_test, y_test, test_size=n_test, stratify=y_test)\n",
    "        \n",
    "        data_mean = np.mean(x_train[:, float_cols], 0)\n",
    "        data_std = np.std(x_train[:, float_cols], 0)\n",
    "\n",
    "        x_train[:, float_cols] = (x_train[:, float_cols] - data_mean) / data_std\n",
    "        x_update[:, float_cols] = (x_update[:, float_cols] - data_mean) / data_std\n",
    "        x_test[:, float_cols] = (x_test[:, float_cols] - data_mean) / data_std\n",
    "\n",
    "        model = model_fn()\n",
    "        model.fit(x_train, y_train)\n",
    "        y_prob = model.predict_proba(x_train)\n",
    "        \n",
    "        threshold = find_threshold(y_train, y_prob, desired_fpr)\n",
    "        \n",
    "        y_prob = model.predict_proba(x_test)\n",
    "        y_pred = y_prob[:, 1] > threshold\n",
    "        initial_tnr, initial_fpr, initial_fnr, initial_tpr = eval_model(y_test, y_pred)\n",
    "        \n",
    "        new_model, temp_rates = update_model_feedback(model, x_update, y_update, x_test, y_test, num_updates, intermediate=True, threshold=threshold)\n",
    "\n",
    "        rates[\"fpr\"].append([initial_fpr] + temp_rates[\"fpr\"])\n",
    "        rates[\"tpr\"].append([initial_tpr] + temp_rates[\"tpr\"])\n",
    "        rates[\"fnr\"].append([initial_fnr] + temp_rates[\"fnr\"])\n",
    "        rates[\"tnr\"].append([initial_tnr] + temp_rates[\"tnr\"])\n",
    "            \n",
    "    return rates"
   ]
  },
  {
   "cell_type": "code",
   "execution_count": 243,
   "metadata": {},
   "outputs": [],
   "source": [
    "def gold_standard_loop(model_fn, x, y, n_train, n_update, n_test, names, desired_fpr, seeds):\n",
    "    seeds = np.arange(seeds)\n",
    "    rates = {name: [] for name in names}\n",
    "    \n",
    "    for seed in seeds:\n",
    "        np.random.seed(seed)\n",
    "        \n",
    "        x_train, x_test, y_train, y_test = train_test_split(x, y, test_size=n_update + n_test, stratify=y)\n",
    "        x_update, x_test, y_update, y_test = train_test_split(x_test, y_test, test_size=n_test, stratify=y_test)\n",
    "        \n",
    "        data_mean = np.mean(x_train[:, float_cols], 0)\n",
    "        data_std = np.std(x_train[:, float_cols], 0)\n",
    "\n",
    "        x_train[:, float_cols] = (x_train[:, float_cols] - data_mean) / data_std\n",
    "        x_update[:, float_cols] = (x_update[:, float_cols] - data_mean) / data_std\n",
    "        x_test[:, float_cols] = (x_test[:, float_cols] - data_mean) / data_std\n",
    "        \n",
    "        model = model_fn()\n",
    "        model.fit(np.concatenate((x_train, x_update)), np.concatenate((y_train, y_update)))\n",
    "        y_prob = model.predict_proba(x_train)\n",
    "        \n",
    "        threshold = find_threshold(y_train, y_prob, desired_fpr)\n",
    "                  \n",
    "        y_prob = model.predict_proba(x_test)\n",
    "        y_pred = y_prob[:, 1] > threshold\n",
    "        gold_standard_tnr, gold_standard_fpr, gold_standard_fnr, gold_standard_tpr = eval_model(y_test, y_pred)\n",
    "                  \n",
    "        rates[\"fpr\"].append(gold_standard_fpr)\n",
    "        rates[\"tpr\"].append(gold_standard_tpr)\n",
    "        rates[\"fnr\"].append(gold_standard_fnr)\n",
    "        rates[\"tnr\"].append(gold_standard_tnr)\n",
    "        \n",
    "    return rates"
   ]
  },
  {
   "cell_type": "code",
   "execution_count": 226,
   "metadata": {},
   "outputs": [],
   "source": [
    "def find_threshold(y, y_prob, desired_fpr):\n",
    "    thresholds = np.linspace(0.05, 0.95, 100)\n",
    "    best_threshold = None\n",
    "    best_fpr_diff = 0.0\n",
    "    best_fpr = 0.0\n",
    "    \n",
    "    for threshold in thresholds:\n",
    "        temp_pred = y_prob[:, 1] >= threshold\n",
    "        temp_tnr, temp_fpr, temp_fnr, temp_tpr = eval_model(y, temp_pred)\n",
    "        \n",
    "#         print(\"Threshold: {} | FPR: {}\".format(threshold, temp_fpr))\n",
    "#         print(\"Best FPR diff: {} | (desired_fpr - temp_fpr) = {} | Current FPR: {}\".format(best_fpr_diff, (desired_fpr - temp_fpr), temp_fpr))\n",
    "        \n",
    "        if temp_fpr < desired_fpr and best_threshold is None:\n",
    "            best_threshold = threshold\n",
    "            best_fpr_diff = desired_fpr - temp_fpr\n",
    "            best_fpr = temp_fpr\n",
    "        elif temp_fpr < desired_fpr and (desired_fpr - temp_fpr) < best_fpr_diff:\n",
    "            best_threshold = threshold\n",
    "            best_fpr_diff = desired_fpr - temp_fpr\n",
    "            best_fpr = temp_fpr\n",
    "    \n",
    "    return best_threshold"
   ]
  },
  {
   "cell_type": "code",
   "execution_count": 184,
   "metadata": {},
   "outputs": [],
   "source": [
    "def results_to_dataframe(rates):\n",
    "    data = {\"rate\": [], \"type\": [], \"num_updates\": []}\n",
    "\n",
    "    for name in rates.keys():\n",
    "        for i in range(len(rates[name])):\n",
    "            data[\"rate\"] += rates[name][i]\n",
    "            data[\"type\"] += [name] * (len(rates[name][i]))\n",
    "            data[\"num_updates\"] +=  list(np.arange(len(rates[name][i])))\n",
    "\n",
    "    return pd.DataFrame(data)"
   ]
  },
  {
   "cell_type": "code",
   "execution_count": 146,
   "metadata": {},
   "outputs": [],
   "source": [
    "def lr_wrapper(class_weight):\n",
    "    def lr():\n",
    "        return linear_model.SGDClassifier(max_iter=10000, tol=1e-3, warm_start=True, loss=\"log\", class_weight=class_weight)\n",
    "    \n",
    "    return lr"
   ]
  },
  {
   "cell_type": "code",
   "execution_count": 147,
   "metadata": {},
   "outputs": [],
   "source": [
    "def svm_wrapper(class_weight):\n",
    "    def svm():\n",
    "        return linear_model.SGDClassifier(max_iter=10000, tol=1e-3, warm_start=True, loss=\"hinge\", class_weight=class_weight)\n",
    "    \n",
    "    return svm"
   ]
  },
  {
   "cell_type": "code",
   "execution_count": 251,
   "metadata": {},
   "outputs": [],
   "source": [
    "def plot_rate(data, rate_type, model_name, gs_line):\n",
    "    fig = plt.figure(figsize=(13, 9))\n",
    "    ax = fig.add_subplot(111)\n",
    "    sns.lineplot(x=\"num_updates\", y=\"rate\", data=data.loc[data[\"type\"] == rate_type], err_style=\"band\", ax=ax, ci=\"sd\")\n",
    "    # sns.boxplot(x=\"num_updates\", y=\"rate\", hue=\"time\", data=data.loc[data[\"type\"] == \"fpr\"], ax=ax)\n",
    "    # sns.swarmplot(x=\"type\", y=\"rate\", hue=\"time\", data=data, color=\".25\", ax=ax)\n",
    "    ax.set_xlabel(\"Num Updates\", size=26, labelpad=10.0)\n",
    "    ax.set_ylabel(rate_type.upper(), size=26, labelpad=10.0)\n",
    "    ax.axhline(gs_line, ls=\"--\")\n",
    "    ax.set_xlim([0,500])\n",
    "\n",
    "    ax.tick_params(axis='both', which='major', labelsize=20)\n",
    "    ax.tick_params(axis='both', which='minor', labelsize=20)\n",
    "    fig.savefig(\"figures/real_data/mimic_{}_{}.png\".format(model_name, rate_type), dpi=300)\n",
    "    fig.savefig(\"figures/real_data/mimic_{}_{}.pdf\".format(model_name, rate_type), dpi=300)"
   ]
  },
  {
   "cell_type": "code",
   "execution_count": 289,
   "metadata": {},
   "outputs": [],
   "source": [
    "def plot_rates(data, rate_types, model_name, gs_lines):\n",
    "    fig = plt.figure(figsize=(13, 9))\n",
    "    ax = fig.add_subplot(111)\n",
    "    g = sns.lineplot(x=\"num_updates\", y=\"rate\", hue=\"type\", data=data.loc[data[\"type\"].isin(rate_types)], err_style=\"band\", ax=ax, ci=\"sd\", palette=\"bright\")\n",
    "    # sns.boxplot(x=\"num_updates\", y=\"rate\", hue=\"time\", data=data.loc[data[\"type\"] == \"fpr\"], ax=ax)\n",
    "    # sns.swarmplot(x=\"type\", y=\"rate\", hue=\"time\", data=data, color=\".25\", ax=ax)\n",
    "    ax.set_xlabel(\"Num Updates\", size=30, labelpad=10.0)\n",
    "    ax.set_ylabel(\"Rate\", size=30, labelpad=10.0)\n",
    "    \n",
    "    for i in range(len(gs_lines)):\n",
    "        ax.axhline(gs_lines[i], ls=\"--\", color=g.lines[i].get_color())\n",
    "\n",
    "    ax.set_xlim([0,500])\n",
    "\n",
    "    ax.tick_params(axis='both', which='major', labelsize=24)\n",
    "    ax.tick_params(axis='both', which='minor', labelsize=24)\n",
    "    \n",
    "    legend = ax.legend(title=\"Rate Type\", title_fontsize=30, labels=list(map(lambda x: x.upper(), rate_types)), loc=\"upper left\")\n",
    "    legend.texts[0].set_size(24)\n",
    "    fig.savefig(\"figures/real_data/mimic_{}_{}.png\".format(model_name, rate_types), dpi=300)\n",
    "    fig.savefig(\"figures/real_data/mimic_{}_{}.pdf\".format(model_name, rate_types), dpi=300)"
   ]
  },
  {
   "cell_type": "code",
   "execution_count": 227,
   "metadata": {},
   "outputs": [],
   "source": [
    "num_updates = 500\n",
    "names = [\"fpr\", \"tpr\", \"fnr\", \"tnr\", \"auc\"]\n",
    "seeds = 100"
   ]
  },
  {
   "cell_type": "code",
   "execution_count": 228,
   "metadata": {},
   "outputs": [],
   "source": [
    "data = load_mimiciii_data()\n",
    "float_cols = []\n",
    "\n",
    "for i, column in enumerate(data[\"X\"].columns):\n",
    "    if \"float\" in str(data[\"X\"][column].dtype):\n",
    "        float_cols.append(i)\n",
    "        \n",
    "float_cols = np.array(float_cols)\n",
    "\n",
    "x = data[\"X\"].to_numpy()\n",
    "y = data[\"y\"].to_numpy()"
   ]
  },
  {
   "cell_type": "code",
   "execution_count": 229,
   "metadata": {},
   "outputs": [
    {
     "name": "stdout",
     "output_type": "stream",
     "text": [
      "Positive Samples: 0.09839842035980693\n",
      "Negative Samples: 0.901601579640193\n"
     ]
    }
   ],
   "source": [
    "prop_0 = np.sum(y == 0) / float(len(y))\n",
    "prop_1 = np.sum(y == 1) / float(len(y))\n",
    "\n",
    "weight_0 = float(len(y)) / (2 * np.sum(y == 0))\n",
    "weight_1 = float(len(y)) / (2 * np.sum(y == 1))\n",
    "\n",
    "print(\"Positive Samples: {}\".format(prop_1))\n",
    "print(\"Negative Samples: {}\".format(prop_0))"
   ]
  },
  {
   "cell_type": "markdown",
   "metadata": {},
   "source": [
    "### Logistic Regression"
   ]
  },
  {
   "cell_type": "code",
   "execution_count": 230,
   "metadata": {},
   "outputs": [],
   "source": [
    "n_train = int(len(x) * 0.4)\n",
    "n_update = int(len(x) * 0.4)\n",
    "n_test = int(len(x) * 0.2)"
   ]
  },
  {
   "cell_type": "code",
   "execution_count": 231,
   "metadata": {},
   "outputs": [],
   "source": [
    "model_fn = lr_wrapper(None)"
   ]
  },
  {
   "cell_type": "code",
   "execution_count": 232,
   "metadata": {},
   "outputs": [],
   "source": [
    "desired_fpr = 0.1"
   ]
  },
  {
   "cell_type": "code",
   "execution_count": 235,
   "metadata": {
    "collapsed": true,
    "jupyter": {
     "outputs_hidden": true
    }
   },
   "outputs": [
    {
     "name": "stdout",
     "output_type": "stream",
     "text": [
      "0\n",
      "1\n",
      "2\n",
      "3\n",
      "4\n",
      "5\n",
      "6\n",
      "7\n",
      "8\n",
      "9\n",
      "10\n",
      "11\n",
      "12\n",
      "13\n",
      "14\n",
      "15\n",
      "16\n",
      "17\n",
      "18\n",
      "19\n",
      "20\n",
      "21\n",
      "22\n",
      "23\n",
      "24\n",
      "25\n",
      "26\n",
      "27\n",
      "28\n",
      "29\n",
      "30\n",
      "31\n",
      "32\n",
      "33\n",
      "34\n",
      "35\n",
      "36\n",
      "37\n",
      "38\n",
      "39\n",
      "40\n",
      "41\n",
      "42\n",
      "43\n",
      "44\n",
      "45\n",
      "46\n",
      "47\n",
      "48\n",
      "49\n",
      "50\n",
      "51\n",
      "52\n",
      "53\n",
      "54\n",
      "55\n",
      "56\n",
      "57\n",
      "58\n",
      "59\n",
      "60\n",
      "61\n",
      "62\n",
      "63\n",
      "64\n",
      "65\n",
      "66\n",
      "67\n",
      "68\n",
      "69\n",
      "70\n",
      "71\n",
      "72\n",
      "73\n",
      "74\n",
      "75\n",
      "76\n",
      "77\n",
      "78\n",
      "79\n",
      "80\n",
      "81\n",
      "82\n",
      "83\n",
      "84\n",
      "85\n",
      "86\n",
      "87\n",
      "88\n",
      "89\n",
      "90\n",
      "91\n",
      "92\n",
      "93\n",
      "94\n",
      "95\n",
      "96\n",
      "97\n",
      "98\n",
      "99\n"
     ]
    }
   ],
   "source": [
    "rates = train_update_loop(model_fn, x, y, n_train, n_update, n_test, names, num_updates, desired_fpr, seeds)"
   ]
  },
  {
   "cell_type": "code",
   "execution_count": 244,
   "metadata": {},
   "outputs": [],
   "source": [
    "gold_standard = gold_standard_loop(model_fn, x, y, n_train, n_update, n_test, names, desired_fpr, seeds)"
   ]
  },
  {
   "cell_type": "code",
   "execution_count": 246,
   "metadata": {},
   "outputs": [],
   "source": [
    "gs_mean = np.mean(gold_standard[\"fpr\"])"
   ]
  },
  {
   "cell_type": "code",
   "execution_count": 236,
   "metadata": {},
   "outputs": [],
   "source": [
    "dataframe = results_to_dataframe(rates)"
   ]
  },
  {
   "cell_type": "code",
   "execution_count": 276,
   "metadata": {},
   "outputs": [],
   "source": [
    "temp = map(lambda x: x.upper(), [\"fpr\"])"
   ]
  },
  {
   "cell_type": "code",
   "execution_count": 278,
   "metadata": {},
   "outputs": [
    {
     "data": {
      "text/plain": [
       "['FPR']"
      ]
     },
     "execution_count": 278,
     "metadata": {},
     "output_type": "execute_result"
    }
   ],
   "source": [
    "list(temp)"
   ]
  },
  {
   "cell_type": "code",
   "execution_count": 290,
   "metadata": {},
   "outputs": [
    {
     "data": {
      "image/png": "[encoded data removed]",
      "text/plain": [
       "<Figure size 936x648 with 1 Axes>"
      ]
     },
     "metadata": {
      "needs_background": "light"
     },
     "output_type": "display_data"
    }
   ],
   "source": [
    "plot_rates(dataframe, [\"fpr\", \"fnr\"], \"lr\", [np.mean(gold_standard[\"fpr\"]), np.mean(gold_standard[\"fnr\"])])"
   ]
  },
  {
   "cell_type": "code",
   "execution_count": 252,
   "metadata": {},
   "outputs": [
    {
     "data": {
      "image/png": "[encoded data removed]",
      "text/plain": [
       "<Figure size 936x648 with 1 Axes>"
      ]
     },
     "metadata": {
      "needs_background": "light"
     },
     "output_type": "display_data"
    }
   ],
   "source": [
    "plot_rate(dataframe, \"fpr\", \"lr\", gs_mean)"
   ]
  },
  {
   "cell_type": "code",
   "execution_count": 216,
   "metadata": {},
   "outputs": [],
   "source": [
    "x_train, x_test, y_train, y_test = train_test_split(x, y, test_size=0.6, stratify=y)\n",
    "x_update, x_test, y_update, y_test = train_test_split(x_test, y_test, test_size=0.5, stratify=y_test)\n",
    "\n",
    "data_mean = np.mean(x_train[:, float_cols], 0)\n",
    "data_std = np.std(x_train[:, float_cols], 0)\n",
    "\n",
    "x_train[:, float_cols] = (x_train[:, float_cols] - data_mean) / data_std\n",
    "x_update[:, float_cols] = (x_update[:, float_cols] - data_mean) / data_std\n",
    "x_test[:, float_cols] = (x_test[:, float_cols] - data_mean) / data_std\n",
    "\n",
    "model = model_fn()\n",
    "model.fit(x_train, y_train)\n",
    "\n",
    "y_pred = model.predict(x_test)\n",
    "initial_tnr, initial_fpr, initial_fnr, initial_tpr = eval_model(y_test, y_pred)\n",
    "y_score = model.decision_function(x_test)\n",
    "y_prob = model.predict_proba(x_train)\n",
    "initial_auc = roc_auc_score(y_train, y_prob[:, 1])"
   ]
  },
  {
   "cell_type": "markdown",
   "metadata": {},
   "source": [
    "Try different thresholds"
   ]
  },
  {
   "cell_type": "code",
   "execution_count": 218,
   "metadata": {},
   "outputs": [],
   "source": [
    "thresholds = np.linspace(0.05, 0.95, 100)"
   ]
  },
  {
   "cell_type": "code",
   "execution_count": 219,
   "metadata": {},
   "outputs": [],
   "source": [
    "train_neg = np.sum(y_train == 0)\n",
    "train_pos = np.sum(y_train == 1)\n",
    "\n",
    "\n",
    "train_neg_prop = float(train_neg) / float(len(y_train))\n",
    "train_pos_prop = float(train_pos) / float(len(y_train))"
   ]
  },
  {
   "cell_type": "code",
   "execution_count": 220,
   "metadata": {
    "collapsed": true,
    "jupyter": {
     "outputs_hidden": true
    }
   },
   "outputs": [
    {
     "name": "stdout",
     "output_type": "stream",
     "text": [
      "Threshold: 0.050 | FPR: 0.388 | TPR: 0.077 / 0.098 | FNR: 0.022 | TNR: 0.513 / 0.902\n",
      "Threshold: 0.059 | FPR: 0.340 | TPR: 0.073 / 0.098 | FNR: 0.026 | TNR: 0.561 / 0.902\n",
      "Threshold: 0.068 | FPR: 0.305 | TPR: 0.069 / 0.098 | FNR: 0.029 | TNR: 0.597 / 0.902\n",
      "Threshold: 0.077 | FPR: 0.274 | TPR: 0.067 / 0.098 | FNR: 0.032 | TNR: 0.627 / 0.902\n",
      "Threshold: 0.086 | FPR: 0.245 | TPR: 0.064 / 0.098 | FNR: 0.034 | TNR: 0.657 / 0.902\n",
      "Threshold: 0.095 | FPR: 0.220 | TPR: 0.061 / 0.098 | FNR: 0.037 | TNR: 0.682 / 0.902\n",
      "Threshold: 0.105 | FPR: 0.199 | TPR: 0.059 / 0.098 | FNR: 0.040 | TNR: 0.703 / 0.902\n",
      "Threshold: 0.114 | FPR: 0.182 | TPR: 0.057 / 0.098 | FNR: 0.042 | TNR: 0.720 / 0.902\n",
      "Threshold: 0.123 | FPR: 0.166 | TPR: 0.055 / 0.098 | FNR: 0.043 | TNR: 0.736 / 0.902\n",
      "Threshold: 0.132 | FPR: 0.153 | TPR: 0.053 / 0.098 | FNR: 0.045 | TNR: 0.748 / 0.902\n",
      "Threshold: 0.141 | FPR: 0.141 | TPR: 0.051 / 0.098 | FNR: 0.047 | TNR: 0.760 / 0.902\n",
      "Threshold: 0.150 | FPR: 0.132 | TPR: 0.049 / 0.098 | FNR: 0.049 | TNR: 0.769 / 0.902\n",
      "Threshold: 0.159 | FPR: 0.122 | TPR: 0.048 / 0.098 | FNR: 0.051 | TNR: 0.780 / 0.902\n",
      "Threshold: 0.168 | FPR: 0.114 | TPR: 0.046 / 0.098 | FNR: 0.052 | TNR: 0.788 / 0.902\n",
      "Threshold: 0.177 | FPR: 0.105 | TPR: 0.044 / 0.098 | FNR: 0.054 | TNR: 0.796 / 0.902\n",
      "Threshold: 0.186 | FPR: 0.098 | TPR: 0.043 / 0.098 | FNR: 0.056 | TNR: 0.803 / 0.902\n",
      "Threshold: 0.195 | FPR: 0.093 | TPR: 0.041 / 0.098 | FNR: 0.057 | TNR: 0.808 / 0.902\n",
      "Threshold: 0.205 | FPR: 0.088 | TPR: 0.040 / 0.098 | FNR: 0.058 | TNR: 0.814 / 0.902\n",
      "Threshold: 0.214 | FPR: 0.082 | TPR: 0.039 / 0.098 | FNR: 0.059 | TNR: 0.819 / 0.902\n",
      "Threshold: 0.223 | FPR: 0.077 | TPR: 0.038 / 0.098 | FNR: 0.061 | TNR: 0.824 / 0.902\n",
      "Threshold: 0.232 | FPR: 0.074 | TPR: 0.036 / 0.098 | FNR: 0.062 | TNR: 0.828 / 0.902\n",
      "Threshold: 0.241 | FPR: 0.070 | TPR: 0.035 / 0.098 | FNR: 0.063 | TNR: 0.832 / 0.902\n",
      "Threshold: 0.250 | FPR: 0.065 | TPR: 0.035 / 0.098 | FNR: 0.064 | TNR: 0.836 / 0.902\n",
      "Threshold: 0.259 | FPR: 0.062 | TPR: 0.034 / 0.098 | FNR: 0.064 | TNR: 0.840 / 0.902\n",
      "Threshold: 0.268 | FPR: 0.058 | TPR: 0.033 / 0.098 | FNR: 0.065 | TNR: 0.844 / 0.902\n",
      "Threshold: 0.277 | FPR: 0.056 | TPR: 0.032 / 0.098 | FNR: 0.066 | TNR: 0.846 / 0.902\n",
      "Threshold: 0.286 | FPR: 0.053 | TPR: 0.031 / 0.098 | FNR: 0.067 | TNR: 0.849 / 0.902\n",
      "Threshold: 0.295 | FPR: 0.050 | TPR: 0.030 / 0.098 | FNR: 0.068 | TNR: 0.852 / 0.902\n",
      "Threshold: 0.305 | FPR: 0.047 | TPR: 0.029 / 0.098 | FNR: 0.069 | TNR: 0.855 / 0.902\n",
      "Threshold: 0.314 | FPR: 0.044 | TPR: 0.029 / 0.098 | FNR: 0.070 | TNR: 0.858 / 0.902\n",
      "Threshold: 0.323 | FPR: 0.042 | TPR: 0.028 / 0.098 | FNR: 0.070 | TNR: 0.860 / 0.902\n",
      "Threshold: 0.332 | FPR: 0.039 | TPR: 0.028 / 0.098 | FNR: 0.071 | TNR: 0.862 / 0.902\n",
      "Threshold: 0.341 | FPR: 0.038 | TPR: 0.027 / 0.098 | FNR: 0.072 | TNR: 0.864 / 0.902\n",
      "Threshold: 0.350 | FPR: 0.036 | TPR: 0.026 / 0.098 | FNR: 0.072 | TNR: 0.866 / 0.902\n",
      "Threshold: 0.359 | FPR: 0.034 | TPR: 0.025 / 0.098 | FNR: 0.073 | TNR: 0.868 / 0.902\n",
      "Threshold: 0.368 | FPR: 0.032 | TPR: 0.024 / 0.098 | FNR: 0.075 | TNR: 0.870 / 0.902\n",
      "Threshold: 0.377 | FPR: 0.030 | TPR: 0.023 / 0.098 | FNR: 0.075 | TNR: 0.872 / 0.902\n",
      "Threshold: 0.386 | FPR: 0.029 | TPR: 0.023 / 0.098 | FNR: 0.076 | TNR: 0.873 / 0.902\n",
      "Threshold: 0.395 | FPR: 0.027 | TPR: 0.022 / 0.098 | FNR: 0.076 | TNR: 0.874 / 0.902\n",
      "Threshold: 0.405 | FPR: 0.026 | TPR: 0.021 / 0.098 | FNR: 0.077 | TNR: 0.875 / 0.902\n",
      "Threshold: 0.414 | FPR: 0.026 | TPR: 0.020 / 0.098 | FNR: 0.078 | TNR: 0.876 / 0.902\n",
      "Threshold: 0.423 | FPR: 0.025 | TPR: 0.020 / 0.098 | FNR: 0.078 | TNR: 0.877 / 0.902\n",
      "Threshold: 0.432 | FPR: 0.024 | TPR: 0.020 / 0.098 | FNR: 0.079 | TNR: 0.877 / 0.902\n",
      "Threshold: 0.441 | FPR: 0.023 | TPR: 0.019 / 0.098 | FNR: 0.079 | TNR: 0.878 / 0.902\n",
      "Threshold: 0.450 | FPR: 0.023 | TPR: 0.019 / 0.098 | FNR: 0.080 | TNR: 0.879 / 0.902\n",
      "Threshold: 0.459 | FPR: 0.021 | TPR: 0.018 / 0.098 | FNR: 0.080 | TNR: 0.880 / 0.902\n",
      "Threshold: 0.468 | FPR: 0.020 | TPR: 0.018 / 0.098 | FNR: 0.081 | TNR: 0.882 / 0.902\n",
      "Threshold: 0.477 | FPR: 0.019 | TPR: 0.017 / 0.098 | FNR: 0.081 | TNR: 0.882 / 0.902\n",
      "Threshold: 0.486 | FPR: 0.019 | TPR: 0.017 / 0.098 | FNR: 0.082 | TNR: 0.883 / 0.902\n",
      "Threshold: 0.495 | FPR: 0.018 | TPR: 0.016 / 0.098 | FNR: 0.082 | TNR: 0.884 / 0.902\n",
      "Threshold: 0.505 | FPR: 0.016 | TPR: 0.016 / 0.098 | FNR: 0.082 | TNR: 0.885 / 0.902\n",
      "Threshold: 0.514 | FPR: 0.016 | TPR: 0.016 / 0.098 | FNR: 0.083 | TNR: 0.886 / 0.902\n",
      "Threshold: 0.523 | FPR: 0.015 | TPR: 0.015 / 0.098 | FNR: 0.083 | TNR: 0.887 / 0.902\n",
      "Threshold: 0.532 | FPR: 0.014 | TPR: 0.015 / 0.098 | FNR: 0.083 | TNR: 0.888 / 0.902\n",
      "Threshold: 0.541 | FPR: 0.013 | TPR: 0.014 / 0.098 | FNR: 0.084 | TNR: 0.888 / 0.902\n",
      "Threshold: 0.550 | FPR: 0.013 | TPR: 0.014 / 0.098 | FNR: 0.085 | TNR: 0.889 / 0.902\n",
      "Threshold: 0.559 | FPR: 0.012 | TPR: 0.014 / 0.098 | FNR: 0.085 | TNR: 0.889 / 0.902\n",
      "Threshold: 0.568 | FPR: 0.011 | TPR: 0.013 / 0.098 | FNR: 0.086 | TNR: 0.890 / 0.902\n",
      "Threshold: 0.577 | FPR: 0.011 | TPR: 0.012 / 0.098 | FNR: 0.086 | TNR: 0.891 / 0.902\n",
      "Threshold: 0.586 | FPR: 0.010 | TPR: 0.012 / 0.098 | FNR: 0.086 | TNR: 0.891 / 0.902\n",
      "Threshold: 0.595 | FPR: 0.010 | TPR: 0.012 / 0.098 | FNR: 0.087 | TNR: 0.892 / 0.902\n",
      "Threshold: 0.605 | FPR: 0.010 | TPR: 0.011 / 0.098 | FNR: 0.087 | TNR: 0.892 / 0.902\n",
      "Threshold: 0.614 | FPR: 0.009 | TPR: 0.011 / 0.098 | FNR: 0.087 | TNR: 0.892 / 0.902\n",
      "Threshold: 0.623 | FPR: 0.009 | TPR: 0.011 / 0.098 | FNR: 0.087 | TNR: 0.893 / 0.902\n",
      "Threshold: 0.632 | FPR: 0.008 | TPR: 0.011 / 0.098 | FNR: 0.087 | TNR: 0.893 / 0.902\n",
      "Threshold: 0.641 | FPR: 0.008 | TPR: 0.011 / 0.098 | FNR: 0.088 | TNR: 0.894 / 0.902\n",
      "Threshold: 0.650 | FPR: 0.007 | TPR: 0.010 / 0.098 | FNR: 0.088 | TNR: 0.895 / 0.902\n",
      "Threshold: 0.659 | FPR: 0.007 | TPR: 0.010 / 0.098 | FNR: 0.088 | TNR: 0.895 / 0.902\n",
      "Threshold: 0.668 | FPR: 0.007 | TPR: 0.010 / 0.098 | FNR: 0.088 | TNR: 0.895 / 0.902\n",
      "Threshold: 0.677 | FPR: 0.007 | TPR: 0.010 / 0.098 | FNR: 0.089 | TNR: 0.895 / 0.902\n",
      "Threshold: 0.686 | FPR: 0.006 | TPR: 0.010 / 0.098 | FNR: 0.089 | TNR: 0.895 / 0.902\n",
      "Threshold: 0.695 | FPR: 0.006 | TPR: 0.009 / 0.098 | FNR: 0.089 | TNR: 0.896 / 0.902\n",
      "Threshold: 0.705 | FPR: 0.006 | TPR: 0.009 / 0.098 | FNR: 0.090 | TNR: 0.896 / 0.902\n",
      "Threshold: 0.714 | FPR: 0.005 | TPR: 0.009 / 0.098 | FNR: 0.090 | TNR: 0.896 / 0.902\n",
      "Threshold: 0.723 | FPR: 0.005 | TPR: 0.008 / 0.098 | FNR: 0.090 | TNR: 0.896 / 0.902\n",
      "Threshold: 0.732 | FPR: 0.005 | TPR: 0.008 / 0.098 | FNR: 0.090 | TNR: 0.897 / 0.902\n",
      "Threshold: 0.741 | FPR: 0.005 | TPR: 0.008 / 0.098 | FNR: 0.090 | TNR: 0.897 / 0.902\n",
      "Threshold: 0.750 | FPR: 0.005 | TPR: 0.008 / 0.098 | FNR: 0.091 | TNR: 0.897 / 0.902\n",
      "Threshold: 0.759 | FPR: 0.004 | TPR: 0.008 / 0.098 | FNR: 0.091 | TNR: 0.897 / 0.902\n",
      "Threshold: 0.768 | FPR: 0.004 | TPR: 0.008 / 0.098 | FNR: 0.091 | TNR: 0.898 / 0.902\n",
      "Threshold: 0.777 | FPR: 0.004 | TPR: 0.007 / 0.098 | FNR: 0.091 | TNR: 0.898 / 0.902\n",
      "Threshold: 0.786 | FPR: 0.004 | TPR: 0.007 / 0.098 | FNR: 0.091 | TNR: 0.898 / 0.902\n",
      "Threshold: 0.795 | FPR: 0.004 | TPR: 0.007 / 0.098 | FNR: 0.091 | TNR: 0.898 / 0.902\n",
      "Threshold: 0.805 | FPR: 0.003 | TPR: 0.007 / 0.098 | FNR: 0.092 | TNR: 0.898 / 0.902\n",
      "Threshold: 0.814 | FPR: 0.003 | TPR: 0.006 / 0.098 | FNR: 0.092 | TNR: 0.899 / 0.902\n",
      "Threshold: 0.823 | FPR: 0.003 | TPR: 0.006 / 0.098 | FNR: 0.092 | TNR: 0.899 / 0.902\n",
      "Threshold: 0.832 | FPR: 0.002 | TPR: 0.006 / 0.098 | FNR: 0.093 | TNR: 0.899 / 0.902\n",
      "Threshold: 0.841 | FPR: 0.002 | TPR: 0.006 / 0.098 | FNR: 0.093 | TNR: 0.899 / 0.902\n",
      "Threshold: 0.850 | FPR: 0.002 | TPR: 0.005 / 0.098 | FNR: 0.093 | TNR: 0.900 / 0.902\n",
      "Threshold: 0.859 | FPR: 0.002 | TPR: 0.005 / 0.098 | FNR: 0.094 | TNR: 0.900 / 0.902\n",
      "Threshold: 0.868 | FPR: 0.001 | TPR: 0.004 / 0.098 | FNR: 0.094 | TNR: 0.900 / 0.902\n",
      "Threshold: 0.877 | FPR: 0.001 | TPR: 0.004 / 0.098 | FNR: 0.094 | TNR: 0.900 / 0.902\n",
      "Threshold: 0.886 | FPR: 0.001 | TPR: 0.004 / 0.098 | FNR: 0.094 | TNR: 0.900 / 0.902\n",
      "Threshold: 0.895 | FPR: 0.001 | TPR: 0.004 / 0.098 | FNR: 0.095 | TNR: 0.900 / 0.902\n",
      "Threshold: 0.905 | FPR: 0.001 | TPR: 0.003 / 0.098 | FNR: 0.095 | TNR: 0.900 / 0.902\n",
      "Threshold: 0.914 | FPR: 0.001 | TPR: 0.003 / 0.098 | FNR: 0.095 | TNR: 0.901 / 0.902\n",
      "Threshold: 0.923 | FPR: 0.001 | TPR: 0.002 / 0.098 | FNR: 0.096 | TNR: 0.901 / 0.902\n",
      "Threshold: 0.932 | FPR: 0.001 | TPR: 0.002 / 0.098 | FNR: 0.096 | TNR: 0.901 / 0.902\n",
      "Threshold: 0.941 | FPR: 0.001 | TPR: 0.002 / 0.098 | FNR: 0.096 | TNR: 0.901 / 0.902\n",
      "Threshold: 0.950 | FPR: 0.001 | TPR: 0.002 / 0.098 | FNR: 0.097 | TNR: 0.901 / 0.902\n"
     ]
    }
   ],
   "source": [
    "for threshold in thresholds:\n",
    "    temp_pred = y_prob[:, 1] >= threshold\n",
    "    temp_tnr, temp_fpr, temp_fnr, temp_tpr = eval_model(y_train, temp_pred)\n",
    "    \n",
    "    print(\"Threshold: {:.3f} | FPR: {:.3f} | TPR: {:.3f} / {:.3f} | FNR: {:.3f} | TNR: {:.3f} / {:.3f}\".format(threshold, temp_fpr, temp_tpr, train_pos_prop, temp_fnr, temp_tnr, train_neg_prop))\n",
    "#     print(\"Threshold: {:.3f} | Adjusted FPR: {:.3f} | TPR: {:.3f} | FNR: {:.3f} | TNR: {:.3f}\".format(threshold, temp_fpr, temp_tpr, temp_fnr, temp_tnr))"
   ]
  },
  {
   "cell_type": "markdown",
   "metadata": {},
   "source": [
    "## Support 2"
   ]
  },
  {
   "cell_type": "code",
   "execution_count": null,
   "metadata": {},
   "outputs": [],
   "source": [
    "def load_support2cls_data():\n",
    "    df = pd.read_csv('support2.csv')\n",
    "    one_hot_encode_cols = ['sex', 'dzclass', 'race' , 'ca', 'income']\n",
    "    target_variables = ['hospdead']\n",
    "    remove_features = ['death', 'slos', 'd.time', 'dzgroup', 'charges', 'totcs\n",
    "    t',\n",
    "    'totmcst', 'aps', 'sps', 'surv2m', 'surv6m', 'prg2m',\n",
    "    'prg6m',\n",
    "    'dnr', 'dnrday', 'avtisst', 'sfdm2']\n",
    "    df = df.drop(remove_features, axis=1)\n",
    "    rest_colmns = [c for c in df.columns if c not in (one_hot_encode_cols + ta\n",
    "    rget_variables)]\n",
    "    # Impute the missing values for 0.\n",
    "    df[rest_colmns] = df[rest_colmns].fillna(0.)\n",
    "    df = pd.get_dummies(df, prefix=one_hot_encode_cols)\n",
    "    X_df = df.drop(target_variables, axis=1)\n",
    "    X_df = X_df.astype('float64')\n",
    "    \n",
    "    y_df = df[target_variables[0]]\n",
    "    dataset = {\n",
    "    'problem': 'classification',\n",
    "    'X': X_df,\n",
    "    'y': y_df,\n",
    "    'd_name': 'support2cls',\n",
    "    }\n",
    "    \n",
    "    return dataset"
   ]
  }
 ],
 "metadata": {
  "kernelspec": {
   "display_name": "dl",
   "language": "python",
   "name": "dl"
  },
  "language_info": {
   "codemirror_mode": {
    "name": "ipython",
    "version": 3
   },
   "file_extension": ".py",
   "mimetype": "text/x-python",
   "name": "python",
   "nbconvert_exporter": "python",
   "pygments_lexer": "ipython3",
   "version": "3.7.3"
  }
 },
 "nbformat": 4,
 "nbformat_minor": 4
}
