{
 "cells": [
  {
   "cell_type": "markdown",
   "metadata": {},
   "source": [
    "# Benefit of Updating"
   ]
  },
  {
   "cell_type": "markdown",
   "metadata": {},
   "source": [
    "Here we look at the FPR of models trained when there is a feedback loop, and without a feedback loop. We look at different types of model and different types of data. We want to show that there is a benefit when we are updating without feedback since otherwise the best thing to do would be keep our model static. I.e. we want to highlight the paradox that exists:\n",
    "\n",
    "1. No feedback --> we want to update our model as often as possible to get better performance from larger sample size\n",
    "2. Feedback --> want to keep model static/update less often to prevent runaway FPR"
   ]
  },
  {
   "cell_type": "code",
   "execution_count": 18,
   "metadata": {},
   "outputs": [],
   "source": [
    "import copy\n",
    "import numpy as np\n",
    "import pandas as pd\n",
    "import seaborn as sns\n",
    "sns.set()\n",
    "import matplotlib.pyplot as plt\n",
    "import torch\n",
    "\n",
    "import sklearn.linear_model as linear_model\n",
    "import sklearn.naive_bayes as naive_bayes\n",
    "import sklearn.svm as svm\n",
    "\n",
    "from scipy.stats import pearsonr, spearmanr\n",
    "from sklearn.metrics import confusion_matrix\n",
    "from sklearn.datasets import make_classification, make_gaussian_quantiles, make_moons\n",
    "from sklearn.model_selection import train_test_split\n",
    "\n",
    "import importlib\n",
    "import utils\n",
    "importlib.reload(utils)\n",
    "\n",
    "from utils import eval_model, perturb_labels_fp, update_model_feedback, update_model_no_feedback, make_gaussian_data, update_model_full_fit\n",
    "\n",
    "%matplotlib inline"
   ]
  },
  {
   "cell_type": "code",
   "execution_count": null,
   "metadata": {},
   "outputs": [],
   "source": [
    "def generate_gaussian_data(m0, m1, s0, s1, p0, p1, num_features=2):\n",
    "    def wrapped(n_train, n_update, n_test):\n",
    "        x_train, y_train = make_gaussian_data(m0, m1, s0, s1, n_train, p0, p1, features=num_features)\n",
    "\n",
    "        x_update, y_update = make_gaussian_data(m0, m1, s0, s1, n_update, p0, p1, features=num_features)\n",
    "        x_test, y_test = make_gaussian_data(m0, m1, s0, s1, n_test, p0, p1, features=num_features)\n",
    "        \n",
    "        return x_train, y_train, x_update, y_update, x_test, y_test\n",
    "    \n",
    "    return wrapped"
   ]
  },
  {
   "cell_type": "code",
   "execution_count": null,
   "metadata": {},
   "outputs": [],
   "source": [
    "def generate_sklearn_make_classification_data(n_train, n_update, n_test, num_features=2):\n",
    "    x, y = make_classification(n_train + n_update + n_test, n_informative=num_features, n_features=num_features, n_classes=2, n_clusters_per_class=2 ,n_redundant=0, flip_y=0, class_sep=1.0)\n",
    "    x_train, x_test, y_train, y_test = train_test_split(x, y, test_size=n_update + n_test)\n",
    "    x_update, x_test, y_update, y_test = train_test_split(x_test, y_test, test_size=n_test)\n",
    "    \n",
    "    return x_train, y_train, x_update, y_update, x_test, y_test"
   ]
  },
  {
   "cell_type": "code",
   "execution_count": null,
   "metadata": {},
   "outputs": [],
   "source": [
    "def generate_moons_data(n_train, n_update, n_test, num_features=2):\n",
    "    x, y = make_moons(n_train + n_update + n_test)\n",
    "    x_train, x_test, y_train, y_test = train_test_split(x, y, test_size=n_update + n_test)\n",
    "    x_update, x_test, y_update, y_test = train_test_split(x_test, y_test, test_size=n_test)\n",
    "    \n",
    "    return x_train, y_train, x_update, y_update, x_test, y_test"
   ]
  },
  {
   "cell_type": "code",
   "execution_count": null,
   "metadata": {},
   "outputs": [],
   "source": [
    "def train_update_loop(n_train, n_update, n_test, num_updates, data_fn, model_fn, seeds):\n",
    "    seeds = np.arange(10)\n",
    "    initial_fprs = []\n",
    "    updated_fprs = []\n",
    "\n",
    "    for seed in seeds:\n",
    "        np.random.seed(seed)\n",
    "\n",
    "        x_train, y_train = make_gaussian_data(m0, m1, s0, s1, n_train, p0, p1, features=n_features)\n",
    "\n",
    "        x_update, y_update = make_gaussian_data(m0, m1, s0, s1, n_update, p0, p1, features=n_features)\n",
    "        x_test, y_test = make_gaussian_data(m0, m1, s0, s1, n_test, p0, p1, features=n_features)\n",
    "\n",
    "        model = linear_model.SGDClassifier(max_iter=10000, tol=1e-3, warm_start=True, loss=\"log\")\n",
    "        model.fit(x_train, y_train)\n",
    "\n",
    "        y_pred = model.predict(x_test)\n",
    "        initial_tnr, initial_fpr, initial_fnr, initial_tpr = eval_model(y_test, y_pred)\n",
    "\n",
    "        new_model, _ = update_model_no_feedback(model, x_update, y_update, None, None, 1000)\n",
    "\n",
    "        y_pred = new_model.predict(x_test)\n",
    "        updated_tnr, updated_fpr, updated_fnr, updated_tpr = eval_model(y_test, y_pred)\n",
    "\n",
    "        initial_fprs.append(initial_fpr)\n",
    "        updated_fprs.append(updated_fpr)"
   ]
  },
  {
   "cell_type": "code",
   "execution_count": 23,
   "metadata": {},
   "outputs": [],
   "source": [
    "m0 = -1\n",
    "m1 = 1\n",
    "\n",
    "s0 = 1\n",
    "s1 = 1\n",
    "\n",
    "n_train = 100\n",
    "n_update = 10000\n",
    "n_test = 10000\n",
    "\n",
    "p0 = 0.5\n",
    "p1 = 1 - p0\n",
    "\n",
    "n_features = 2"
   ]
  },
  {
   "cell_type": "markdown",
   "metadata": {},
   "source": [
    "## Gaussian Data"
   ]
  },
  {
   "cell_type": "markdown",
   "metadata": {},
   "source": [
    "### Naive Bayes"
   ]
  },
  {
   "cell_type": "code",
   "execution_count": 24,
   "metadata": {
    "jupyter": {
     "source_hidden": true
    }
   },
   "outputs": [],
   "source": [
    "seeds = np.arange(10)\n",
    "initial_fprs = []\n",
    "updated_fprs = []\n",
    "\n",
    "for seed in seeds:\n",
    "    np.random.seed(seed)\n",
    "\n",
    "    x_train, y_train = make_gaussian_data(m0 - 0.2, m1 - 0.1, s0, s1, n_train, p0, p1, features=n_features)\n",
    "\n",
    "    x_update, y_update = make_gaussian_data(m0, m1, s0, s1, n_update, p0, p1, features=n_features)\n",
    "    x_test, y_test = make_gaussian_data(m0, m1, s0, s1, n_test, p0, p1, features=n_features)\n",
    "    \n",
    "    model = naive_bayes.GaussianNB([p0, p1])\n",
    "    model.fit(x_train, y_train)\n",
    "    \n",
    "    y_pred = model.predict(x_test)\n",
    "    initial_tnr, initial_fpr, initial_fnr, initial_tpr = eval_model(y_test, y_pred)\n",
    "    \n",
    "    new_model, _ = update_model_feedback(model, x_update, y_update, None, None, 1000)\n",
    "    \n",
    "    y_pred = new_model.predict(x_test)\n",
    "    updated_tnr, updated_fpr, updated_fnr, updated_tpr = eval_model(y_test, y_pred)\n",
    "    \n",
    "    initial_fprs.append(initial_fpr)\n",
    "    updated_fprs.append(updated_fpr)"
   ]
  },
  {
   "cell_type": "code",
   "execution_count": 25,
   "metadata": {
    "jupyter": {
     "source_hidden": true
    }
   },
   "outputs": [
    {
     "data": {
      "image/png": "[encoded data removed]",
      "text/plain": [
       "<Figure size 1152x648 with 1 Axes>"
      ]
     },
     "metadata": {
      "needs_background": "light"
     },
     "output_type": "display_data"
    }
   ],
   "source": [
    "fprs = {\"type\": ([\"initial\"] * len(initial_fprs)) + ([\"updated\"] * len(updated_fprs)),\n",
    "        \"fpr\": initial_fprs + updated_fprs}\n",
    "data = pd.DataFrame(fprs)\n",
    "fig = plt.figure(figsize=(16, 9))\n",
    "ax = fig.add_subplot(111)\n",
    "sns.boxplot(x=\"type\", y=\"fpr\", data=data, ax=ax)\n",
    "sns.swarmplot(x=\"type\", y=\"fpr\", data=data, color=\".25\", ax=ax)\n",
    "ax.set_xlabel(\"\")\n",
    "ax.set_ylabel(\"FPR\", size=20)\n",
    "ax.set_title(\"Initial vs. Updated FPRs\", size=26)\n",
    "ax.tick_params(axis='both', which='major', labelsize=14)\n",
    "ax.tick_params(axis='both', which='minor', labelsize=14)"
   ]
  },
  {
   "cell_type": "markdown",
   "metadata": {},
   "source": [
    "### Logistic Regression"
   ]
  },
  {
   "cell_type": "markdown",
   "metadata": {},
   "source": [
    "#### No Feedback"
   ]
  },
  {
   "cell_type": "code",
   "execution_count": 24,
   "metadata": {},
   "outputs": [],
   "source": [
    "seeds = np.arange(10)\n",
    "initial_fprs = []\n",
    "updated_fprs = []\n",
    "\n",
    "for seed in seeds:\n",
    "    np.random.seed(seed)\n",
    "\n",
    "    x_train, y_train = make_gaussian_data(m0, m1, s0, s1, n_train, p0, p1, features=n_features)\n",
    "\n",
    "    x_update, y_update = make_gaussian_data(m0, m1, s0, s1, n_update, p0, p1, features=n_features)\n",
    "    x_test, y_test = make_gaussian_data(m0, m1, s0, s1, n_test, p0, p1, features=n_features)\n",
    "    \n",
    "    model = linear_model.SGDClassifier(max_iter=10000, tol=1e-3, warm_start=True, loss=\"log\")\n",
    "    model.fit(x_train, y_train)\n",
    "    \n",
    "    y_pred = model.predict(x_test)\n",
    "    initial_tnr, initial_fpr, initial_fnr, initial_tpr = eval_model(y_test, y_pred)\n",
    "    \n",
    "    new_model, _ = update_model_no_feedback(model, x_update, y_update, None, None, 1000)\n",
    "    \n",
    "    y_pred = new_model.predict(x_test)\n",
    "    updated_tnr, updated_fpr, updated_fnr, updated_tpr = eval_model(y_test, y_pred)\n",
    "    \n",
    "    initial_fprs.append(initial_fpr)\n",
    "    updated_fprs.append(updated_fpr)"
   ]
  },
  {
   "cell_type": "code",
   "execution_count": 25,
   "metadata": {},
   "outputs": [
    {
     "data": {
      "image/png": "[encoded data removed]",
      "text/plain": [
       "<Figure size 1152x648 with 1 Axes>"
      ]
     },
     "metadata": {
      "needs_background": "light"
     },
     "output_type": "display_data"
    }
   ],
   "source": [
    "fprs = {\"type\": ([\"initial\"] * len(initial_fprs)) + ([\"updated\"] * len(updated_fprs)),\n",
    "        \"fpr\": initial_fprs + updated_fprs}\n",
    "data = pd.DataFrame(fprs)\n",
    "fig = plt.figure(figsize=(16, 9))\n",
    "ax = fig.add_subplot(111)\n",
    "sns.boxplot(x=\"type\", y=\"fpr\", data=data, ax=ax)\n",
    "sns.swarmplot(x=\"type\", y=\"fpr\", data=data, color=\".25\", ax=ax)\n",
    "ax.set_xlabel(\"\")\n",
    "ax.set_ylabel(\"FPR\", size=20)\n",
    "ax.set_title(\"Initial vs. Updated FPRs\", size=26)\n",
    "ax.tick_params(axis='both', which='major', labelsize=14)\n",
    "ax.tick_params(axis='both', which='minor', labelsize=14)"
   ]
  },
  {
   "cell_type": "markdown",
   "metadata": {},
   "source": [
    "#### Feedback"
   ]
  },
  {
   "cell_type": "code",
   "execution_count": 28,
   "metadata": {},
   "outputs": [],
   "source": [
    "seeds = np.arange(10)\n",
    "initial_fprs = []\n",
    "updated_fprs = []\n",
    "\n",
    "for seed in seeds:\n",
    "    np.random.seed(seed)\n",
    "\n",
    "    x_train, y_train = make_gaussian_data(m0 - 0.2, m1 - 0.1, s0, s1, n_train, p0, p1, features=n_features)\n",
    "\n",
    "    x_update, y_update = make_gaussian_data(m0, m1, s0, s1, n_update, p0, p1, features=n_features)\n",
    "    x_test, y_test = make_gaussian_data(m0, m1, s0, s1, n_test, p0, p1, features=n_features)\n",
    "    \n",
    "    model = linear_model.SGDClassifier(max_iter=10000, tol=1e-3, warm_start=True, loss=\"log\")\n",
    "    model.fit(x_train, y_train)\n",
    "    \n",
    "    y_pred = model.predict(x_test)\n",
    "    initial_tnr, initial_fpr, initial_fnr, initial_tpr = eval_model(y_test, y_pred)\n",
    "    \n",
    "    new_model, _ = update_model_feedback(model, x_update, y_update, None, None, 1000)\n",
    "    \n",
    "    y_pred = new_model.predict(x_test)\n",
    "    updated_tnr, updated_fpr, updated_fnr, updated_tpr = eval_model(y_test, y_pred)\n",
    "    \n",
    "    initial_fprs.append(initial_fpr)\n",
    "    updated_fprs.append(updated_fpr)"
   ]
  },
  {
   "cell_type": "code",
   "execution_count": 29,
   "metadata": {},
   "outputs": [
    {
     "data": {
      "image/png": "[encoded data removed]",
      "text/plain": [
       "<Figure size 1152x648 with 1 Axes>"
      ]
     },
     "metadata": {
      "needs_background": "light"
     },
     "output_type": "display_data"
    }
   ],
   "source": [
    "fprs = {\"type\": ([\"initial\"] * len(initial_fprs)) + ([\"updated\"] * len(updated_fprs)),\n",
    "        \"fpr\": initial_fprs + updated_fprs}\n",
    "data = pd.DataFrame(fprs)\n",
    "fig = plt.figure(figsize=(16, 9))\n",
    "ax = fig.add_subplot(111)\n",
    "sns.boxplot(x=\"type\", y=\"fpr\", data=data, ax=ax)\n",
    "sns.swarmplot(x=\"type\", y=\"fpr\", data=data, color=\".25\", ax=ax)\n",
    "ax.set_xlabel(\"\")\n",
    "ax.set_ylabel(\"FPR\", size=20)\n",
    "ax.set_title(\"Initial vs. Updated FPRs\", size=26)\n",
    "ax.tick_params(axis='both', which='major', labelsize=14)\n",
    "ax.tick_params(axis='both', which='minor', labelsize=14)"
   ]
  },
  {
   "cell_type": "markdown",
   "metadata": {},
   "source": [
    "### SVM"
   ]
  },
  {
   "cell_type": "markdown",
   "metadata": {},
   "source": [
    "#### Linear Data"
   ]
  },
  {
   "cell_type": "code",
   "execution_count": 30,
   "metadata": {},
   "outputs": [],
   "source": [
    "seeds = np.arange(10)\n",
    "initial_fprs = []\n",
    "updated_fprs = []\n",
    "\n",
    "for seed in seeds:\n",
    "    np.random.seed(seed)\n",
    "\n",
    "    x_train, y_train = make_gaussian_data(m0 - 0.2, m1 - 0.1, s0, s1, n_train, p0, p1, features=n_features)\n",
    "\n",
    "    x_update, y_update = make_gaussian_data(m0, m1, s0, s1, n_update, p0, p1, features=n_features)\n",
    "    x_test, y_test = make_gaussian_data(m0, m1, s0, s1, n_test, p0, p1, features=n_features)\n",
    "    \n",
    "    model = linear_model.SGDClassifier(max_iter=10000, tol=1e-3, warm_start=True, loss=\"hinge\")\n",
    "    model.fit(x_train, y_train)\n",
    "    \n",
    "    y_pred = model.predict(x_test)\n",
    "    initial_tnr, initial_fpr, initial_fnr, initial_tpr = eval_model(y_test, y_pred)\n",
    "    \n",
    "    new_model, _ = update_model_feedback(model, x_update, y_update, None, None, 1000)\n",
    "    \n",
    "    y_pred = new_model.predict(x_test)\n",
    "    updated_tnr, updated_fpr, updated_fnr, updated_tpr = eval_model(y_test, y_pred)\n",
    "    \n",
    "    initial_fprs.append(initial_fpr)\n",
    "    updated_fprs.append(updated_fpr)"
   ]
  },
  {
   "cell_type": "code",
   "execution_count": 31,
   "metadata": {},
   "outputs": [
    {
     "data": {
      "image/png": "[encoded data removed]",
      "text/plain": [
       "<Figure size 1152x648 with 1 Axes>"
      ]
     },
     "metadata": {
      "needs_background": "light"
     },
     "output_type": "display_data"
    }
   ],
   "source": [
    "fprs = {\"type\": ([\"initial\"] * len(initial_fprs)) + ([\"updated\"] * len(updated_fprs)),\n",
    "        \"fpr\": initial_fprs + updated_fprs}\n",
    "data = pd.DataFrame(fprs)\n",
    "fig = plt.figure(figsize=(16, 9))\n",
    "ax = fig.add_subplot(111)\n",
    "sns.boxplot(x=\"type\", y=\"fpr\", data=data, ax=ax)\n",
    "sns.swarmplot(x=\"type\", y=\"fpr\", data=data, color=\".25\", ax=ax)\n",
    "ax.set_xlabel(\"\")\n",
    "ax.set_ylabel(\"FPR\", size=20)\n",
    "ax.set_title(\"Initial vs. Updated FPRs\", size=26)\n",
    "ax.tick_params(axis='both', which='major', labelsize=14)\n",
    "ax.tick_params(axis='both', which='minor', labelsize=14)"
   ]
  },
  {
   "cell_type": "markdown",
   "metadata": {},
   "source": [
    "#### Non Linear Data"
   ]
  },
  {
   "cell_type": "code",
   "execution_count": 16,
   "metadata": {},
   "outputs": [
    {
     "name": "stdout",
     "output_type": "stream",
     "text": [
      "0\n",
      "(1000, 2)\n",
      "1\n",
      "(1000, 2)\n",
      "2\n",
      "(1000, 2)\n",
      "3\n",
      "(1000, 2)\n",
      "4\n",
      "(1000, 2)\n",
      "5\n",
      "(1000, 2)\n",
      "6\n",
      "(1000, 2)\n",
      "7\n",
      "(1000, 2)\n",
      "8\n",
      "(1000, 2)\n",
      "9\n",
      "(1000, 2)\n"
     ]
    }
   ],
   "source": [
    "seeds = np.arange(10)\n",
    "initial_fprs = []\n",
    "gold_standard_fprs = []\n",
    "updated_fprs = []\n",
    "\n",
    "n_train = 1000\n",
    "n_update = 10000\n",
    "n_test = 10000\n",
    "\n",
    "for seed in seeds:\n",
    "    print(seed)\n",
    "    np.random.seed(seed)\n",
    "\n",
    "    X1, y1 = make_gaussian_quantiles(cov=2.,\n",
    "                                     n_samples=int((n_train + n_update + n_test) / 2), n_features=2,\n",
    "                                     n_classes=2)\n",
    "    X2, y2 = make_gaussian_quantiles(mean=(3, 3), cov=1.5,\n",
    "                                     n_samples=int((n_train + n_update + n_test) / 2), n_features=2,\n",
    "                                     n_classes=2)\n",
    "    x = np.concatenate((X1, X2))\n",
    "    y = np.concatenate((y1, - y2 + 1))\n",
    "    \n",
    "    x_train, x_test, y_train, y_test = train_test_split(x, y, test_size=n_update + n_test)\n",
    "    x_update, x_test, y_update, y_test = train_test_split(x_test, y_test, test_size=n_test)\n",
    "    \n",
    "    print(x_train.shape)\n",
    "    \n",
    "    base_model = svm.SVC(gamma=\"auto\")\n",
    "    base_model.fit(x_train, y_train)\n",
    "    \n",
    "    y_pred = base_model.predict(x_test)\n",
    "    initial_tnr, initial_fpr, initial_fnr, initial_tpr = eval_model(y_test, y_pred)\n",
    "    \n",
    "    gold_standard_model = svm.SVC(gamma=\"auto\")\n",
    "    gold_standard_model.fit(np.concatenate((x_train, x_update)), np.concatenate((y_train, y_update)))\n",
    "    \n",
    "    y_pred = gold_standard_model.predict(x_test)\n",
    "    gold_standard_tnr, gold_standard_fpr, gold_standard_fnr, gold_standard_tpr = eval_model(y_test, y_pred)\n",
    "    \n",
    "    update_model = svm.SVC(gamma=\"auto\")\n",
    "    update_model.fit(x_train, y_train)\n",
    "    new_model = update_model_full_fit(update_model, x_train, y_train, x_update, y_update, 50)\n",
    "    \n",
    "    y_pred = new_model.predict(x_test)\n",
    "    updated_tnr, updated_fpr, updated_fnr, updated_tpr = eval_model(y_test, y_pred)\n",
    "    \n",
    "    initial_fprs.append(initial_fpr)\n",
    "    gold_standard_fprs.append(gold_standard_fpr)\n",
    "    updated_fprs.append(updated_fpr)\n",
    "\n"
   ]
  },
  {
   "cell_type": "code",
   "execution_count": 7,
   "metadata": {},
   "outputs": [
    {
     "data": {
      "text/plain": [
       "[0.0504, 0.0226, 0.0279, 0.022, 0.0612, 0.0577, 0.0436, 0.0416, 0.062, 0.0191]"
      ]
     },
     "execution_count": 7,
     "metadata": {},
     "output_type": "execute_result"
    }
   ],
   "source": [
    "updated_fprs"
   ]
  },
  {
   "cell_type": "code",
   "execution_count": 17,
   "metadata": {},
   "outputs": [
    {
     "data": {
      "image/png": "[encoded data removed]",
      "text/plain": [
       "<Figure size 1152x648 with 1 Axes>"
      ]
     },
     "metadata": {
      "needs_background": "light"
     },
     "output_type": "display_data"
    }
   ],
   "source": [
    "fprs = {\"type\": ([\"train_only\"] * len(initial_fprs)) + ([\"gold_standard\"] * len(gold_standard_fprs)) + ([\"feedback_update\"] * len(updated_fprs)),\n",
    "        \"fpr\": initial_fprs + gold_standard_fprs + updated_fprs}\n",
    "data = pd.DataFrame(fprs)\n",
    "fig = plt.figure(figsize=(16, 9))\n",
    "ax = fig.add_subplot(111)\n",
    "sns.boxplot(x=\"type\", y=\"fpr\", data=data, ax=ax)\n",
    "sns.swarmplot(x=\"type\", y=\"fpr\", data=data, color=\".25\", ax=ax)\n",
    "ax.set_xlabel(\"\")\n",
    "ax.set_ylabel(\"FPR\", size=20)\n",
    "ax.set_title(\"Initial vs. Updated FPRs\", size=26)\n",
    "ax.tick_params(axis='both', which='major', labelsize=14)\n",
    "ax.tick_params(axis='both', which='minor', labelsize=14)"
   ]
  },
  {
   "cell_type": "code",
   "execution_count": 45,
   "metadata": {},
   "outputs": [
    {
     "data": {
      "text/plain": [
       "[0.4631,\n",
       " 0.4699,\n",
       " 0.4576,\n",
       " 0.4619,\n",
       " 0.4575,\n",
       " 0.4668,\n",
       " 0.4681,\n",
       " 0.4603,\n",
       " 0.4562,\n",
       " 0.4674]"
      ]
     },
     "execution_count": 45,
     "metadata": {},
     "output_type": "execute_result"
    }
   ],
   "source": [
    "gold_standard_fprs"
   ]
  },
  {
   "cell_type": "code",
   "execution_count": 9,
   "metadata": {},
   "outputs": [
    {
     "data": {
      "text/plain": [
       "0.4553"
      ]
     },
     "execution_count": 9,
     "metadata": {},
     "output_type": "execute_result"
    }
   ],
   "source": [
    "gold_standard_fpr"
   ]
  },
  {
   "cell_type": "code",
   "execution_count": 8,
   "metadata": {},
   "outputs": [
    {
     "name": "stderr",
     "output_type": "stream",
     "text": [
      "/h/alexadam/anaconda3/envs/dl/lib/python3.7/site-packages/sklearn/svm/base.py:196: FutureWarning: The default value of gamma will change from 'auto' to 'scale' in version 0.22 to account better for unscaled features. Set gamma explicitly to 'auto' or 'scale' to avoid this warning.\n",
      "  \"avoid this warning.\", FutureWarning)\n"
     ]
    }
   ],
   "source": [
    "X1, y1 = make_gaussian_quantiles(cov=2.,\n",
    "                                 n_samples=int((n_train + n_update + n_test) / 2), n_features=2,\n",
    "                                 n_classes=2)\n",
    "X2, y2 = make_gaussian_quantiles(mean=(3, 3), cov=1.5,\n",
    "                                 n_samples=int((n_train + n_update + n_test) / 2), n_features=2,\n",
    "                                 n_classes=2)\n",
    "x = np.concatenate((X1, X2))\n",
    "y = np.concatenate((y1, - y2 + 1))\n",
    "\n",
    "x_train, x_test, y_train, y_test = train_test_split(x, y, test_size=n_update + n_test)\n",
    "x_update, x_test, y_update, y_test = train_test_split(x_test, y_test, test_size=n_test)\n",
    "\n",
    "gold_standard_model = svm.SVC()\n",
    "gold_standard_model.fit(np.concatenate((x_train, x_update)), np.concatenate((y_train, y_update)))\n",
    "\n",
    "y_pred = gold_standard_model.predict(x_test)\n",
    "gold_standard_tnr, gold_standard_fpr, gold_standard_fnr, gold_standard_fpr = eval_model(y_test, y_pred)\n"
   ]
  },
  {
   "cell_type": "markdown",
   "metadata": {},
   "source": [
    "## Random Forests"
   ]
  },
  {
   "cell_type": "code",
   "execution_count": null,
   "metadata": {},
   "outputs": [],
   "source": []
  }
 ],
 "metadata": {
  "kernelspec": {
   "display_name": "dl",
   "language": "python",
   "name": "dl"
  },
  "language_info": {
   "codemirror_mode": {
    "name": "ipython",
    "version": 3
   },
   "file_extension": ".py",
   "mimetype": "text/x-python",
   "name": "python",
   "nbconvert_exporter": "python",
   "pygments_lexer": "ipython3",
   "version": "3.7.3"
  }
 },
 "nbformat": 4,
 "nbformat_minor": 4
}
