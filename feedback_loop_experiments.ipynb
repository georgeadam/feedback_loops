{
 "cells": [
  {
   "cell_type": "markdown",
   "metadata": {},
   "source": [
    "# Feedback Loop Experiments"
   ]
  },
  {
   "cell_type": "markdown",
   "metadata": {},
   "source": [
    "This notebook looks at what happens in a toy example where a model has some false negative rate, and is able to influence new data coming in through its predictions. It quantifies how long it takes for the model to degenerate and completely cheat."
   ]
  },
  {
   "cell_type": "code",
   "execution_count": 46,
   "metadata": {},
   "outputs": [],
   "source": [
    "%matplotlib inline\n",
    "import matplotlib.pyplot as plt\n",
    "\n",
    "from functools import reduce\n",
    "from sklearn.datasets import make_classification\n",
    "from sklearn import linear_model\n",
    "from sklearn.metrics import confusion_matrix\n",
    "from sklearn.model_selection import train_test_split\n",
    "import copy\n",
    "\n",
    "import numpy as np"
   ]
  },
  {
   "cell_type": "markdown",
   "metadata": {},
   "source": [
    "## Create Initial Data"
   ]
  },
  {
   "cell_type": "code",
   "execution_count": 47,
   "metadata": {},
   "outputs": [],
   "source": [
    "np.random.seed(5)\n",
    "X, y = make_classification(1000000, 2, n_redundant=0, flip_y=0.0, class_sep=1.0)\n",
    "X_train, X_test, y_train, y_test = train_test_split(X, y, test_size=0.999)\n",
    "X_test1, X_test2, y_test1, y_test2 = train_test_split(X_test, y_test, test_size=0.5)"
   ]
  },
  {
   "cell_type": "markdown",
   "metadata": {},
   "source": [
    "We assume some false positives labeled in the training data in order to induce an FPR > 0 in the model for the case where data is not linearly separable"
   ]
  },
  {
   "cell_type": "code",
   "execution_count": 48,
   "metadata": {},
   "outputs": [],
   "source": [
    "# neg_idx = y_train == 0\n",
    "# neg_idx = np.where(neg_idx)\n",
    "# bernoulli = np.random.choice([0, 1], len(neg_idx), [1 - 0.1, 0.1])\n",
    "# y_train[neg_idx] = bernoulli"
   ]
  },
  {
   "cell_type": "markdown",
   "metadata": {},
   "source": [
    "## Train Linear Model"
   ]
  },
  {
   "cell_type": "code",
   "execution_count": 49,
   "metadata": {},
   "outputs": [],
   "source": [
    "model = linear_model.SGDClassifier(max_iter=10000, tol=1e-3, warm_start=True, loss=\"log\")"
   ]
  },
  {
   "cell_type": "code",
   "execution_count": 50,
   "metadata": {},
   "outputs": [
    {
     "data": {
      "text/plain": [
       "SGDClassifier(alpha=0.0001, average=False, class_weight=None,\n",
       "       early_stopping=False, epsilon=0.1, eta0=0.0, fit_intercept=True,\n",
       "       l1_ratio=0.15, learning_rate='optimal', loss='log', max_iter=10000,\n",
       "       n_iter=None, n_iter_no_change=5, n_jobs=None, penalty='l2',\n",
       "       power_t=0.5, random_state=None, shuffle=True, tol=0.001,\n",
       "       validation_fraction=0.1, verbose=0, warm_start=True)"
      ]
     },
     "execution_count": 50,
     "metadata": {},
     "output_type": "execute_result"
    }
   ],
   "source": [
    "model.fit(X_train, y_train)"
   ]
  },
  {
   "cell_type": "markdown",
   "metadata": {},
   "source": [
    "## Visualize Model Predictions"
   ]
  },
  {
   "cell_type": "code",
   "execution_count": 51,
   "metadata": {},
   "outputs": [],
   "source": [
    "x1_min, x1_max = X_train[:, 0].min() - 1, X_train[:, 0].max() + 1\n",
    "x2_min, x2_max = X_train[:, 1].min() - 1, X_train[:, 1].max() + 1\n",
    "xx, yy = np.meshgrid(np.linspace(x1_min, x1_max, 100), np.linspace(x2_min, x2_max, 100))"
   ]
  },
  {
   "cell_type": "code",
   "execution_count": 52,
   "metadata": {},
   "outputs": [],
   "source": [
    "z = model.predict(np.c_[xx.ravel(), yy.ravel()]).reshape(xx.shape)"
   ]
  },
  {
   "cell_type": "code",
   "execution_count": 53,
   "metadata": {},
   "outputs": [
    {
     "data": {
      "text/plain": [
       "<matplotlib.legend.Legend at 0x7f51b7afefd0>"
      ]
     },
     "execution_count": 53,
     "metadata": {},
     "output_type": "execute_result"
    },
    {
     "data": {
      "image/png": "[encoded data removed]",
      "text/plain": [
       "<Figure size 432x288 with 1 Axes>"
      ]
     },
     "metadata": {
      "needs_background": "light"
     },
     "output_type": "display_data"
    }
   ],
   "source": [
    "pos_idx = y_train[:1000] == 1\n",
    "pos_idx = np.where(pos_idx)\n",
    "neg_idx = y_train[:1000] == 0\n",
    "neg_idx = np.where(neg_idx)\n",
    "\n",
    "plt.contourf(xx, yy, z, cmap=plt.cm.Paired)\n",
    "plt.scatter(X_train[pos_idx, 0], X_train[pos_idx, 1], label=1)\n",
    "plt.scatter(X_train[neg_idx, 0], X_train[neg_idx, 1], label=0)\n",
    "plt.legend()"
   ]
  },
  {
   "cell_type": "markdown",
   "metadata": {},
   "source": [
    "## Quantify Test Set Performance"
   ]
  },
  {
   "cell_type": "code",
   "execution_count": 59,
   "metadata": {},
   "outputs": [],
   "source": [
    "y_pred = model.predict(X_test2)"
   ]
  },
  {
   "cell_type": "code",
   "execution_count": 60,
   "metadata": {},
   "outputs": [],
   "source": [
    "c_matrix = confusion_matrix(y_test2, y_pred)"
   ]
  },
  {
   "cell_type": "code",
   "execution_count": 61,
   "metadata": {},
   "outputs": [
    {
     "data": {
      "text/plain": [
       "array([[220080,  29733],\n",
       "       [ 26056, 223631]])"
      ]
     },
     "execution_count": 61,
     "metadata": {},
     "output_type": "execute_result"
    }
   ],
   "source": [
    "c_matrix"
   ]
  },
  {
   "cell_type": "code",
   "execution_count": 62,
   "metadata": {},
   "outputs": [],
   "source": [
    "tn, fp, fn, tp = c_matrix.ravel()"
   ]
  },
  {
   "cell_type": "code",
   "execution_count": 63,
   "metadata": {},
   "outputs": [
    {
     "name": "stdout",
     "output_type": "stream",
     "text": [
      "FPR: 0.05952552552552553\n",
      "TPR: 0.4477097097097097\n",
      "FNR: 0.05216416416416417\n",
      "TNR: 0.4406006006006006\n"
     ]
    }
   ],
   "source": [
    "print(\"FPR: {}\".format(float(fp) / float(len(y_pred))))\n",
    "print(\"TPR: {}\".format(float(tp) / float(len(y_pred))))\n",
    "print(\"FNR: {}\".format(float(fn) / float(len(y_pred))))\n",
    "print(\"TNR: {}\".format(float(tn) / float(len(y_pred))))"
   ]
  },
  {
   "cell_type": "markdown",
   "metadata": {},
   "source": [
    "## Update Model On New Data - $p(y | x)$ changes"
   ]
  },
  {
   "cell_type": "markdown",
   "metadata": {},
   "source": [
    "### Do Not Retrain on Original Train Set"
   ]
  },
  {
   "cell_type": "markdown",
   "metadata": {},
   "source": [
    "#### Blind Trust"
   ]
  },
  {
   "cell_type": "markdown",
   "metadata": {},
   "source": [
    "Let's start with the original test set. Our model has a certain false positive rate on it. However, the model predictions influence clinician decisions which in turn affects the observed label. Our original test set labels are our oracle. However, we will make it so that false positive predictions end up overwriting the labels (i.e. predicting death results in paliative care which in turn results in death)\n",
    "\n",
    "What we want to quantify is how the number of updates affects the FPR while keeping the number of new samples the same. My guess is that more updates will result in higher FPR since the model has more opportunities to cheat. I think that some theory can be developed around this since the FPR is probably non-decreasing for each update."
   ]
  },
  {
   "cell_type": "code",
   "execution_count": 32,
   "metadata": {},
   "outputs": [],
   "source": [
    "def train_model_online(num_updates):\n",
    "    np.random.seed(1)\n",
    "    new_model = copy.deepcopy(model)\n",
    "    \n",
    "    size = float(len(y_test1)) / float(num_updates)\n",
    "    \n",
    "    prediction_differences = []\n",
    "    \n",
    "    orig_train_pred = new_model.predict(X_train)\n",
    "    classes = np.unique(y_test1)\n",
    "\n",
    "    for i in range(num_updates):\n",
    "        idx_start = int(size * i)\n",
    "        idx_end = int(size * (i + 1))\n",
    "        sub_x = X_test1[idx_start: idx_end, :]\n",
    "        sub_y = copy.deepcopy(y_test1[idx_start: idx_end])\n",
    "\n",
    "        sub_pred = new_model.predict(sub_x)\n",
    "        fp_idx = np.logical_and(sub_y == 0, sub_pred == 1)\n",
    "        sub_y[fp_idx] = 1\n",
    "\n",
    "        new_model.partial_fit(sub_x, sub_y, classes)\n",
    "        \n",
    "#         new_train_pred = new_model.predict(X_train)\n",
    "#         prediction_differences.append(np.sum(orig_train_pred != new_train_pred))\n",
    "        \n",
    "    return new_model, prediction_differences"
   ]
  },
  {
   "cell_type": "code",
   "execution_count": 15,
   "metadata": {},
   "outputs": [],
   "source": [
    "def eval_model(model, X, y):\n",
    "    y_pred = model.predict(X)\n",
    "    c_matrix = confusion_matrix(y, y_pred)\n",
    "    tn, fp, fn, tp = c_matrix.ravel()\n",
    "\n",
    "    samples = float(len(y_pred))\n",
    "    \n",
    "    return tn / samples, fp / samples, fn / samples, tp / samples"
   ]
  },
  {
   "cell_type": "code",
   "execution_count": 16,
   "metadata": {},
   "outputs": [],
   "source": [
    "num_updates = [1, 5, 10, 20, 40, 50, 100, 200, 300, 400, 1000, 2500]\n",
    "fps = {}\n",
    "prediction_differences = {}"
   ]
  },
  {
   "cell_type": "code",
   "execution_count": 17,
   "metadata": {},
   "outputs": [],
   "source": [
    "for i in num_updates:\n",
    "    temp_model, temp_differences = train_model_online(i)\n",
    "    tn, fp, fn, tp = eval_model(temp_model, X_test2, y_test2)\n",
    "    fps[i] = fp\n",
    "    prediction_differences[i] = temp_differences"
   ]
  },
  {
   "cell_type": "code",
   "execution_count": 18,
   "metadata": {},
   "outputs": [
    {
     "data": {
      "text/plain": [
       "{1: 0.08211411411411411,\n",
       " 5: 0.15448848848848848,\n",
       " 10: 0.1982882882882883,\n",
       " 20: 0.27654654654654653,\n",
       " 40: 0.33987387387387386,\n",
       " 50: 0.38536536536536536,\n",
       " 100: 0.44422022022022023,\n",
       " 200: 0.5001261261261262,\n",
       " 300: 0.5001261261261262,\n",
       " 400: 0.5001261261261262,\n",
       " 1000: 0.5001261261261262,\n",
       " 2500: 0.5001261261261262}"
      ]
     },
     "execution_count": 18,
     "metadata": {},
     "output_type": "execute_result"
    }
   ],
   "source": [
    "fps"
   ]
  },
  {
   "cell_type": "code",
   "execution_count": null,
   "metadata": {},
   "outputs": [],
   "source": [
    "fig = plt.figure(figsize=(16,9))\n",
    "fig.suptitle(\"FPR Degeneration as Function of Updates\", fontsize=24)\n",
    "\n",
    "ax = fig.add_subplot(111)\n",
    "ax.plot(list(fps.keys()), list(fps.values()))\n",
    "ax.scatter(list(fps.keys()), list(fps.values()))\n",
    "ax.set_xlabel(\"Num Updates\", fontsize=20)\n",
    "ax.set_ylabel(\"FPR\", fontsize=20)\n",
    "fig.show()"
   ]
  },
  {
   "cell_type": "code",
   "execution_count": null,
   "metadata": {},
   "outputs": [],
   "source": [
    "len(y_test1)"
   ]
  },
  {
   "cell_type": "code",
   "execution_count": null,
   "metadata": {},
   "outputs": [],
   "source": [
    "fig = plt.figure()\n",
    "fig.suptitle(\"Pred Differences\")\n",
    "\n",
    "ax = fig.add_subplot(111)\n",
    "\n",
    "for idx, i in enumerate(prediction_differences.keys()):\n",
    "    samples = len(prediction_differences[i])\n",
    "    x = np.arange(1, samples + 1)\n",
    "    ax.plot(x, prediction_differences[i], c=plt.get_cmap(\"Paired\").colors[idx], label=str(i))\n",
    "    \n",
    "ax.legend()\n",
    "fig.show()"
   ]
  },
  {
   "cell_type": "markdown",
   "metadata": {},
   "source": [
    "#### Partial Trust"
   ]
  },
  {
   "cell_type": "markdown",
   "metadata": {},
   "source": [
    "Now we consider the case where our physician's trust in the system varies. To do so, we need a model of our physician's decisions. Since we know the ground truth (oracle) because we generate the data, we can define the physician model via some FPR, FNR, TPR, TNR rates where intentional mistakes are sampled. \n",
    "\n",
    "We know that physicians and ML models make \"different\" kinds of mistakes, so perhaps we do something like (proportional to) swapping the FPR and FNR of the ML model"
   ]
  },
  {
   "cell_type": "code",
   "execution_count": 33,
   "metadata": {},
   "outputs": [],
   "source": [
    "def train_model_online_partial_trust(num_updates, trust):\n",
    "    np.random.seed(1)\n",
    "    new_model = copy.deepcopy(model)\n",
    "    \n",
    "    size = float(len(y_test1)) / float(num_updates)\n",
    "    \n",
    "    prediction_differences = []\n",
    "    \n",
    "    orig_train_pred = new_model.predict(X_train)\n",
    "    classes = np.unique(y_test1)\n",
    "\n",
    "    for i in range(num_updates):\n",
    "        idx_start = int(size * i)\n",
    "        idx_end = int(size * (i + 1))\n",
    "        sub_x = X_test1[idx_start: idx_end, :]\n",
    "        sub_y = copy.deepcopy(y_test1[idx_start: idx_end])\n",
    "\n",
    "        sub_pred = new_model.predict(sub_x)\n",
    "        bernoulli = np.random.choice([False, True], size=len(sub_y), p=[1 - trust, trust])\n",
    "\n",
    "        fp_idx = bernoulli * np.logical_and(sub_y == 0, sub_pred == 1)\n",
    "        sub_y[fp_idx] = 1\n",
    "\n",
    "        new_model.partial_fit(sub_x, sub_y, classes)\n",
    "        \n",
    "#         new_train_pred = new_model.predict(X_train)\n",
    "#         prediction_differences.append(np.sum(orig_train_pred != new_train_pred))        \n",
    "    return new_model, prediction_differences"
   ]
  },
  {
   "cell_type": "code",
   "execution_count": 34,
   "metadata": {},
   "outputs": [
    {
     "name": "stdout",
     "output_type": "stream",
     "text": [
      "0.08264864864864865\n"
     ]
    }
   ],
   "source": [
    "temp_model, temp_differences = train_model_online_partial_trust(1, 1.0)\n",
    "tn, fp, fn, tp = eval_model(temp_model, X_test2, y_test2)\n",
    "print(fp)"
   ]
  },
  {
   "cell_type": "code",
   "execution_count": 35,
   "metadata": {},
   "outputs": [],
   "source": [
    "trust = [0.7, 0.75, 0.8, 0.85, 0.9, 0.95, 1.0]\n",
    "num_updates = [1, 5, 10, 20, 40, 50, 100, 200, 300, 400, 1000, 2500]\n",
    "fps = {i: {} for i in trust}\n",
    "prediction_differences = {i: {} for i in trust}"
   ]
  },
  {
   "cell_type": "code",
   "execution_count": 36,
   "metadata": {},
   "outputs": [],
   "source": [
    "for i in trust:\n",
    "    for k in num_updates:\n",
    "        temp_model, temp_differences = train_model_online_partial_trust(k, i)\n",
    "        tn, fp, fn, tp = eval_model(temp_model, X_test2, y_test2)\n",
    "        fps[i][k] = fp\n",
    "        prediction_differences[i][k] = temp_differences"
   ]
  },
  {
   "cell_type": "code",
   "execution_count": null,
   "metadata": {},
   "outputs": [],
   "source": [
    "fps"
   ]
  },
  {
   "cell_type": "code",
   "execution_count": null,
   "metadata": {},
   "outputs": [],
   "source": [
    "%matplotlib inline"
   ]
  },
  {
   "cell_type": "code",
   "execution_count": 37,
   "metadata": {},
   "outputs": [
    {
     "data": {
      "image/png": "[encoded data removed]",
      "text/plain": [
       "<Figure size 1152x648 with 1 Axes>"
      ]
     },
     "metadata": {
      "needs_background": "light"
     },
     "output_type": "display_data"
    }
   ],
   "source": [
    "fig = plt.figure(figsize=(16,9))\n",
    "fig.suptitle(\"FPR Degeneration and Trust\", fontsize=24)\n",
    "\n",
    "ax = fig.add_subplot(111)\n",
    "ax.set_ylabel(\"FPR\", fontsize=20)\n",
    "ax.set_xlabel(\"Num Updates\", fontsize=20)\n",
    "\n",
    "for count, i in enumerate(trust):\n",
    "    ax.plot(list(fps[i].keys()), list(fps[i].values()), label=str(i))\n",
    "    ax.scatter(list(fps[i].keys()), list(fps[i].values()))\n",
    "\n",
    "handles, labels = ax.get_legend_handles_labels()\n",
    "fig.legend(handles, labels, loc='upper right', title=\"Trust\", title_fontsize=14)\n",
    "fig.show()"
   ]
  },
  {
   "cell_type": "code",
   "execution_count": null,
   "metadata": {},
   "outputs": [],
   "source": [
    "fps[0.1]"
   ]
  },
  {
   "cell_type": "code",
   "execution_count": null,
   "metadata": {},
   "outputs": [],
   "source": [
    "fps[0.9]"
   ]
  },
  {
   "cell_type": "markdown",
   "metadata": {},
   "source": [
    "### Keep Refitting Original Train Set"
   ]
  },
  {
   "cell_type": "markdown",
   "metadata": {},
   "source": [
    "To ensure that our newly updated model does not make different predictions on the old data than the original, when updating the model, we train on both the new data and the original training set combined."
   ]
  },
  {
   "cell_type": "code",
   "execution_count": 64,
   "metadata": {},
   "outputs": [],
   "source": [
    "def train_model_online_refit(num_updates):\n",
    "    np.random.seed(1)\n",
    "    new_model = copy.deepcopy(model)\n",
    "    \n",
    "    size = float(len(y_test1)) / float(num_updates)\n",
    "    prediction_differences = []\n",
    "    orig_train_pred = new_model.predict(X_train)\n",
    "    \n",
    "    classes = np.unique(y_test1)\n",
    "\n",
    "    for i in range(num_updates):\n",
    "        idx_start = int(size * i)\n",
    "        idx_end = int(size * (i + 1))\n",
    "        sub_x = X_test1[idx_start: idx_end, :]\n",
    "        sub_y = copy.deepcopy(y_test1[idx_start: idx_end])\n",
    "\n",
    "        sub_pred = new_model.predict(sub_x)\n",
    "        fp_idx = np.logical_and(sub_y == 0, sub_pred == 1)\n",
    "        sub_y[fp_idx] = 1\n",
    "\n",
    "        new_model.partial_fit(np.concatenate((X_train, sub_x)), np.concatenate((y_train, sub_y)), classes)\n",
    "        \n",
    "#         new_train_pred = new_model.predict(X_train)\n",
    "#         prediction_differences.append(orig_train_pred != new_train_pred)\n",
    "        \n",
    "    return new_model, prediction_differences"
   ]
  },
  {
   "cell_type": "code",
   "execution_count": 65,
   "metadata": {},
   "outputs": [],
   "source": [
    "num_updates = [1, 5, 10, 20, 40, 50, 100, 200, 300, 400, 1000, 2500]\n",
    "fps = {}\n",
    "prediction_differences = {}"
   ]
  },
  {
   "cell_type": "code",
   "execution_count": 66,
   "metadata": {},
   "outputs": [],
   "source": [
    "for i in num_updates:\n",
    "    temp_model, temp_differences = train_model_online_refit(i)\n",
    "    tn, fp, fn, tp = eval_model(temp_model, X_test2, y_test2)\n",
    "    fps[i] = fp\n",
    "    prediction_differences[i] = temp_differences"
   ]
  },
  {
   "cell_type": "code",
   "execution_count": 68,
   "metadata": {},
   "outputs": [
    {
     "data": {
      "text/plain": [
       "{1: 0.08358958958958959,\n",
       " 5: 0.1380960960960961,\n",
       " 10: 0.20306506506506505,\n",
       " 20: 0.20892892892892892,\n",
       " 40: 0.15734934934934935,\n",
       " 50: 0.14956356356356357,\n",
       " 100: 0.11367767767767768,\n",
       " 200: 0.08956356356356357,\n",
       " 300: 0.07878678678678679,\n",
       " 400: 0.07207607607607608,\n",
       " 1000: 0.059925925925925924,\n",
       " 2500: 0.054954954954954956}"
      ]
     },
     "execution_count": 68,
     "metadata": {},
     "output_type": "execute_result"
    }
   ],
   "source": [
    "fps"
   ]
  },
  {
   "cell_type": "code",
   "execution_count": 67,
   "metadata": {},
   "outputs": [
    {
     "data": {
      "image/png": "[encoded data removed]",
      "text/plain": [
       "<Figure size 1152x648 with 1 Axes>"
      ]
     },
     "metadata": {
      "needs_background": "light"
     },
     "output_type": "display_data"
    }
   ],
   "source": [
    "fig = plt.figure(figsize=(16, 9))\n",
    "fig.suptitle(\"FPR Update Inlcuding Training Data\", fontsize=24)\n",
    "\n",
    "ax = fig.add_subplot(111)\n",
    "ax.plot(list(fps.keys()), list(fps.values()))\n",
    "ax.scatter(list(fps.keys()), list(fps.values()))\n",
    "ax.set_xlabel(\"Num Updates\", fontsize=20)\n",
    "ax.set_ylabel(\"FPR\", fontsize=20)\n",
    "\n",
    "fig.show()"
   ]
  },
  {
   "cell_type": "code",
   "execution_count": null,
   "metadata": {},
   "outputs": [],
   "source": [
    "fig = plt.figure()\n",
    "fig.suptitle(\"Pred Differences\")\n",
    "\n",
    "ax = fig.add_subplot(111)\n",
    "\n",
    "for idx, i in enumerate(prediction_differences.keys()):\n",
    "    samples = len(prediction_differences[i])\n",
    "    x = np.arange(1, samples + 1)\n",
    "    ax.plot(x, prediction_differences[i], c=plt.get_cmap(\"Paired\").colors[idx], label=str(i))\n",
    "    \n",
    "ax.legend()\n",
    "fig.show()"
   ]
  },
  {
   "cell_type": "markdown",
   "metadata": {},
   "source": [
    "Since the size of the training set is so large, the flipped labels in the test set have almost no effect because the model would have to memorize the flipped test set labels in order to both correctly predict the train set labels, and the flipped test set labels.\n",
    "\n",
    "What we've looked at so far is a mild case of what might happen since only $p(y | x)$ changes. What if we also end up changing $p(x)$? I.e., after each model update, we also increase the probability that we see patients with a certain type of feature that is associated with being able to recover. Doing so gives a double whammy since by increasing the ratio of negative to positive samples, for a fixed FPR, we will have a greater number of false positives, and thus the model will likely deteriorate faster."
   ]
  },
  {
   "cell_type": "markdown",
   "metadata": {},
   "source": [
    "## Update Model on New Data - Both $p(y | x)$ and $p(y)$ change"
   ]
  },
  {
   "cell_type": "markdown",
   "metadata": {},
   "source": [
    "Based on the change in FPR after an update, we will bias the sample of the test set at the next iteration to include proprotionally more negative samples. For the moment, the simplest way of doing this would be to simply drop some proportion of positive samples"
   ]
  },
  {
   "cell_type": "code",
   "execution_count": null,
   "metadata": {},
   "outputs": [],
   "source": [
    "temp1 = np.arange(5)\n",
    "temp2 = np.arange(5)\n",
    "temp2[2] = 20\n",
    "\n",
    "np.where(temp1 == temp2)"
   ]
  },
  {
   "cell_type": "code",
   "execution_count": null,
   "metadata": {},
   "outputs": [],
   "source": [
    "def train_model_online_conditional_and_marginal(num_updates):\n",
    "    np.random.seed(1)\n",
    "    new_model = copy.deepcopy(model)\n",
    "    orig_pred = new_model.predict(X_test)\n",
    "    orig_fpr = np.sum(np.logical_and(y_test == 0, orig_pred == 1)) / float(len(y_test))\n",
    "    \n",
    "    size = float(len(y_test)) / float(num_updates)\n",
    "    delta = 0\n",
    "\n",
    "    for i in range(num_updates):\n",
    "        idx_start = int(size * i)\n",
    "        idx_end = int(size * (i + 1))\n",
    "        sub_x = copy.deepcopy(X_test[idx_start: idx_end, :])\n",
    "        sub_y = copy.deepcopy(y_test[idx_start: idx_end])\n",
    "        sub_y_pert = copy.deepcopy(sub_y)\n",
    "        \n",
    "        if delta > 0:\n",
    "            pos_idx = np.where(sub_y == 1)[0]\n",
    "            rate = np.min((delta, 0.2))\n",
    "            print(pos_idx.shape)\n",
    "            print(np.round(rate * len(pos_idx)))\n",
    "            drop = np.random.choice(pos_idx, int(rate * len(pos_idx)))\n",
    "            print(len(drop))\n",
    "            sub_x = np.delete(sub_x, drop, axis=0)\n",
    "            sub_y = np.delete(sub_y, drop, axis=0)\n",
    "            sub_y_pert = np.delete(sub_y_pert, drop, axis=0)\n",
    "            \n",
    "        \n",
    "        sub_pred = new_model.predict(sub_x)\n",
    "        fp_idx = np.logical_and(sub_y == 0, sub_pred == 1)\n",
    "        sub_y_pert[fp_idx] = 1\n",
    "\n",
    "        new_model.fit(sub_x, sub_y_pert)\n",
    "        new_pred = new_model.predict(sub_x)\n",
    "        new_fpr = np.sum(np.logical_and(sub_y == 0, sub_pred == 1)) / float(len(sub_y))\n",
    "        \n",
    "        delta += new_fpr - orig_fpr\n",
    "        print(delta)\n",
    "        \n",
    "    return new_model"
   ]
  },
  {
   "cell_type": "code",
   "execution_count": null,
   "metadata": {},
   "outputs": [],
   "source": [
    "num_updates = [1, 5, 10, 20, 40, 50, 100]\n",
    "fps = {}\n",
    "prediction_differences = {}"
   ]
  },
  {
   "cell_type": "code",
   "execution_count": null,
   "metadata": {},
   "outputs": [],
   "source": [
    "for i in num_updates:\n",
    "    temp_model = train_model_online_conditional_and_marginal(i)\n",
    "    tn, fp, fn, tp = eval_model(temp_model, X_test, y_test)\n",
    "    fps[i] = fp\n",
    "    prediction_differences[i] = temp_differences"
   ]
  },
  {
   "cell_type": "code",
   "execution_count": null,
   "metadata": {},
   "outputs": [],
   "source": [
    "fps"
   ]
  },
  {
   "cell_type": "code",
   "execution_count": null,
   "metadata": {},
   "outputs": [],
   "source": []
  }
 ],
 "metadata": {
  "kernelspec": {
   "display_name": "dl",
   "language": "python",
   "name": "dl"
  },
  "language_info": {
   "codemirror_mode": {
    "name": "ipython",
    "version": 3
   },
   "file_extension": ".py",
   "mimetype": "text/x-python",
   "name": "python",
   "nbconvert_exporter": "python",
   "pygments_lexer": "ipython3",
   "version": "3.7.3"
  }
 },
 "nbformat": 4,
 "nbformat_minor": 4
}
